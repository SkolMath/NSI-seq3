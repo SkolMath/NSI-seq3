{
 "cells": [
  {
   "cell_type": "markdown",
   "metadata": {},
   "source": [
    "# Notion de nombre flottant\n",
    "\n",
    "https://pixees.fr/informatiquelycee/n_site/nsi_prem_float.html"
   ]
  },
  {
   "cell_type": "markdown",
   "metadata": {},
   "source": [
    "### À faire vous-même 1"
   ]
  },
  {
   "cell_type": "markdown",
   "metadata": {},
   "source": [
    "représentation binaire de 4,125"
   ]
  },
  {
   "cell_type": "raw",
   "metadata": {},
   "source": [
    "4 => 100\n",
    "\n",
    "0,125 x 2 = 0,250 soit 0 + 0,250\n",
    "0,250 x 2 = 0,500 soit 0 + 0,500\n",
    "0,500 x 2 = 1     soit 1 + 0,0\n",
    "\n",
    "4,125 = 100,001 en base 2"
   ]
  },
  {
   "cell_type": "raw",
   "metadata": {},
   "source": [
    "https://www.ma-calculatrice.fr/convertir-binaire-hexadecimal.php"
   ]
  },
  {
   "cell_type": "markdown",
   "metadata": {},
   "source": [
    "### À faire vous-même 2"
   ]
  },
  {
   "cell_type": "markdown",
   "metadata": {},
   "source": [
    "représentation décimale de 100,001"
   ]
  },
  {
   "cell_type": "raw",
   "metadata": {},
   "source": [
    "100 => 4\n",
    "\n",
    "0 x 2**-1 + 0 x 2**-2 + 1 x 2**-3 = 0.125\n",
    "\n",
    "donc 100,001 est 4,125 en base 10"
   ]
  },
  {
   "cell_type": "markdown",
   "metadata": {},
   "source": [
    "### À faire vous-même 3"
   ]
  },
  {
   "cell_type": "markdown",
   "metadata": {},
   "source": [
    "représentation binaire de 0,1"
   ]
  },
  {
   "cell_type": "raw",
   "metadata": {},
   "source": [
    "0 => 0\n",
    "\n",
    "0,1 x 2 = 0,2 soit 0 + 0,2\n",
    "0,2 x 2 = 0,4 soit 0 + 0,4\n",
    "0,4 x 2 = 0,8 soit 0 + 0,8\n",
    "0,8 x 2 = 1,6 soit 1 + 0,6\n",
    "0,6 x 2 = 1,2 soit 1 + 0,2\n",
    "...\n",
    "\n",
    "0,1 = 0,0001100110011... en base 2\n",
    "\n",
    "C'est infini !"
   ]
  },
  {
   "cell_type": "markdown",
   "metadata": {},
   "source": [
    "### Représentation des flottants dans un ordinateur - À faire vous-même 4"
   ]
  },
  {
   "cell_type": "markdown",
   "metadata": {},
   "source": [
    "Déterminez la représentation au format simple précision de (0,25) base 10 en binaire et en hexadécimal. "
   ]
  },
  {
   "cell_type": "raw",
   "metadata": {},
   "source": [
    "0,25 base 10 = (0,01) base 2\n",
    "1 x 2 exposant(-2)\n",
    "\n",
    "bit de signe : 0\n",
    "bit d'exposant : 0111 1101 car 125 = -2 + 127\n",
    "bit de mantisse : 0000 0000 0000 0000 0000 000\n",
    "\n",
    "au format simple précision de (0,25) base 10 en binaire \n",
    "= 0011 1110 1000 0000 0000 0000 0000 0000\n",
    "\n",
    "en hexadécimal\n",
    "= 3 E 8 0 0 0 0 0"
   ]
  },
  {
   "cell_type": "markdown",
   "metadata": {},
   "source": [
    "### À faire vous-même 5"
   ]
  },
  {
   "cell_type": "markdown",
   "metadata": {},
   "source": [
    "Déterminez la représentation au format simple précision de (0,1) base 10 en binaire. "
   ]
  },
  {
   "cell_type": "raw",
   "metadata": {},
   "source": [
    "(0,1) base 10 = (0,0 0011 0011 ...) base 2\n",
    "1 x 2 exposant(-4)\n",
    "\n",
    "bit de signe : 0\n",
    "bit d'exposant : 0111 1011 car 123 = -4 + 127\n",
    "bit de mantisse : 1001 1001 1001 1001 1001 100\n",
    "\n",
    "au format simple précision de (0,1) base 10 en binaire \n",
    "= 0011 1101 1100 1100 1100 1100 1100 1100\n"
   ]
  },
  {
   "cell_type": "markdown",
   "metadata": {},
   "source": [
    "### À faire vous-même 6"
   ]
  },
  {
   "cell_type": "markdown",
   "metadata": {},
   "source": [
    "Soit le nombre flottant au format simple précision : 00111101110011001100110011001100. "
   ]
  },
  {
   "cell_type": "markdown",
   "metadata": {},
   "source": [
    "Trouvez la représentation en base 10 de ce nombre. "
   ]
  },
  {
   "cell_type": "raw",
   "metadata": {},
   "source": [
    "bit de signe : 0\n",
    "bit d'exposant : 01111011 soit décalage de -4\n",
    "bit de mantisse : 10011001100110011001100\n",
    "    \n",
    "2^-4 + 2^-5 + 2^-8 + 2^-9 + 2^-12 + 2^-13 + 2^-16 + 2^-17 + 2^-20 + 2^-21 + 2^-24 + 2^-25\n",
    "=0,09999999\n",
    "\n"
   ]
  },
  {
   "cell_type": "markdown",
   "metadata": {},
   "source": [
    "### À faire vous-même 7"
   ]
  },
  {
   "cell_type": "raw",
   "metadata": {},
   "source": [
    "0.1+0.2 = 0.30000000000000004\n",
    "car ces décimaux n’ont pas de décomposition exacte."
   ]
  },
  {
   "cell_type": "markdown",
   "metadata": {},
   "source": [
    "### À faire vous-même 8"
   ]
  },
  {
   "cell_type": "markdown",
   "metadata": {},
   "source": [
    "Déterminez la représentation au format simple précision d'un tiers (1/3) en binaire et en hexadécimal. "
   ]
  },
  {
   "cell_type": "raw",
   "metadata": {},
   "source": [
    "bit de signe : 0\n",
    "bit d'exposant : 0111 1101 car 125 = -2 + 127\n",
    "bit de mantisse : 0101 0101 0101 0101 0101 010\n",
    "\n",
    "représentation au format simple précision d'un tiers (1/3) en binaire\n",
    "= 0011 1110 1010 1010 1010 1010 1010 1010\n",
    "\n",
    "en hexadécimal\n",
    "= 3 E A A A A A A"
   ]
  },
  {
   "cell_type": "code",
   "execution_count": null,
   "metadata": {},
   "outputs": [],
   "source": []
  }
 ],
 "metadata": {
  "kernelspec": {
   "display_name": "Python 3",
   "language": "python",
   "name": "python3"
  },
  "language_info": {
   "codemirror_mode": {
    "name": "ipython",
    "version": 3
   },
   "file_extension": ".py",
   "mimetype": "text/x-python",
   "name": "python",
   "nbconvert_exporter": "python",
   "pygments_lexer": "ipython3",
   "version": "3.7.3"
  }
 },
 "nbformat": 4,
 "nbformat_minor": 2
}
