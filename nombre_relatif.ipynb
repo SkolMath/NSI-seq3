{
 "cells": [
  {
   "cell_type": "markdown",
   "metadata": {},
   "source": [
    "# Représentation binaire d'un entier relatif\n",
    "\n",
    "https://pixees.fr/informatiquelycee/n_site/nsi_prem_comp_2.html"
   ]
  },
  {
   "cell_type": "markdown",
   "metadata": {},
   "source": [
    "### À faire vous-même 1"
   ]
  },
  {
   "cell_type": "code",
   "execution_count": null,
   "metadata": {},
   "outputs": [],
   "source": [
    "-15 (représentation sur 8 bits) \n",
    "\n",
    "15 sur 8 bits = 0000 1111\n",
    "\n",
    "donc -15 sur 8 bits = 1000 1111"
   ]
  },
  {
   "cell_type": "markdown",
   "metadata": {},
   "source": [
    "### Le complément à deux - À faire vous-même 2"
   ]
  },
  {
   "cell_type": "code",
   "execution_count": null,
   "metadata": {},
   "outputs": [],
   "source": [
    "                15 => 0000 1111\n",
    "inversons bit      => 1111 0000\n",
    "                    + 0000 0001\n",
    "                   ==============\n",
    "                      1111 0001 est la représentation de -15 sur 8 bits"
   ]
  },
  {
   "cell_type": "markdown",
   "metadata": {},
   "source": [
    "### À faire vous-même 3"
   ]
  },
  {
   "cell_type": "code",
   "execution_count": null,
   "metadata": {},
   "outputs": [],
   "source": [
    "                 5 => 0000 0101\n",
    "inversons bit      => 1111 1010\n",
    "                    + 0000 0001\n",
    "                   ==============\n",
    "                      1111 1011 est la représentation de -5 sur 8 bits\n",
    "                      \n",
    "                      \n",
    "                4 => 0000 0100\n",
    "               -5 => 1111 1011\n",
    "                    ==============\n",
    "                     1111 1111 \n",
    "\n",
    "                 1 => 0000 0001\n",
    "inversons bit      => 1111 1110\n",
    "                    + 0000 0001\n",
    "                   ==============\n",
    "                      1111 1111 est donc bien la représentation de -1 sur 8 bits"
   ]
  },
  {
   "cell_type": "markdown",
   "metadata": {},
   "source": [
    "### À faire vous-même 4"
   ]
  },
  {
   "cell_type": "markdown",
   "metadata": {},
   "source": [
    "le plus petit entier négatif sur 8 bits"
   ]
  },
  {
   "cell_type": "code",
   "execution_count": null,
   "metadata": {},
   "outputs": [],
   "source": [
    "               128 => 1000 0000\n",
    "inversons bit      => 0111 1111\n",
    "                    + 0000 0001\n",
    "                   ==============\n",
    "                      1000 0000  est donc la représentation de -128 sur 8 bits"
   ]
  },
  {
   "cell_type": "code",
   "execution_count": 9,
   "metadata": {},
   "outputs": [
    {
     "data": {
      "text/plain": [
       "-128"
      ]
     },
     "execution_count": 9,
     "metadata": {},
     "output_type": "execute_result"
    }
   ],
   "source": [
    "n=8\n",
    "entier_negatif=-2**(n-1)\n",
    "entier_negatif"
   ]
  },
  {
   "cell_type": "markdown",
   "metadata": {},
   "source": [
    "### À faire vous-même 5"
   ]
  },
  {
   "cell_type": "markdown",
   "metadata": {},
   "source": [
    "le plus grand entier positif sur 8 bits"
   ]
  },
  {
   "cell_type": "code",
   "execution_count": 13,
   "metadata": {},
   "outputs": [
    {
     "data": {
      "text/plain": [
       "127"
      ]
     },
     "execution_count": 13,
     "metadata": {},
     "output_type": "execute_result"
    }
   ],
   "source": [
    "# le plus grand binaire est : 0111 1111\n",
    "\n",
    "2**0 + 2**1 + 2**2 + 2**3 + 2**4 + 2**5 + 2**6"
   ]
  },
  {
   "cell_type": "code",
   "execution_count": 10,
   "metadata": {},
   "outputs": [
    {
     "data": {
      "text/plain": [
       "127"
      ]
     },
     "execution_count": 10,
     "metadata": {},
     "output_type": "execute_result"
    }
   ],
   "source": [
    "entier_positif=2**(n-1)-1\n",
    "entier_positif"
   ]
  },
  {
   "cell_type": "markdown",
   "metadata": {},
   "source": [
    "### À faire vous-même 6"
   ]
  },
  {
   "cell_type": "markdown",
   "metadata": {},
   "source": [
    "bornes inférieure et supérieure d'un entier relatif codé sur 16 bits"
   ]
  },
  {
   "cell_type": "code",
   "execution_count": 15,
   "metadata": {},
   "outputs": [
    {
     "data": {
      "text/plain": [
       "-32768"
      ]
     },
     "execution_count": 15,
     "metadata": {},
     "output_type": "execute_result"
    }
   ],
   "source": [
    "n=16\n",
    "entier_negatif=-2**(n-1)\n",
    "entier_negatif"
   ]
  },
  {
   "cell_type": "code",
   "execution_count": 16,
   "metadata": {},
   "outputs": [
    {
     "data": {
      "text/plain": [
       "32767"
      ]
     },
     "execution_count": 16,
     "metadata": {},
     "output_type": "execute_result"
    }
   ],
   "source": [
    "entier_positif=2**(n-1)-1\n",
    "entier_positif"
   ]
  },
  {
   "cell_type": "code",
   "execution_count": null,
   "metadata": {},
   "outputs": [],
   "source": []
  }
 ],
 "metadata": {
  "kernelspec": {
   "display_name": "Python 3",
   "language": "python",
   "name": "python3"
  },
  "language_info": {
   "codemirror_mode": {
    "name": "ipython",
    "version": 3
   },
   "file_extension": ".py",
   "mimetype": "text/x-python",
   "name": "python",
   "nbconvert_exporter": "python",
   "pygments_lexer": "ipython3",
   "version": "3.7.3"
  }
 },
 "nbformat": 4,
 "nbformat_minor": 2
}
