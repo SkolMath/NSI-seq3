{
 "cells": [
  {
   "cell_type": "markdown",
   "metadata": {},
   "source": [
    "# Représentation d'un texte en machine\n",
    "\n",
    "https://pixees.fr/informatiquelycee/n_site/nsi_prem_texte.html"
   ]
  },
  {
   "cell_type": "markdown",
   "metadata": {},
   "source": [
    "### ASCII - À faire vous-même 1"
   ]
  },
  {
   "cell_type": "code",
   "execution_count": null,
   "metadata": {},
   "outputs": [],
   "source": [
    "\"a\" est 97 en décimal\n",
    "\n",
    "donc le code binaire du \"a\" minuscule en ASCII est = 1100001"
   ]
  },
  {
   "cell_type": "code",
   "execution_count": 5,
   "metadata": {},
   "outputs": [
    {
     "data": {
      "text/plain": [
       "97"
      ]
     },
     "execution_count": 5,
     "metadata": {},
     "output_type": "execute_result"
    }
   ],
   "source": [
    "# trouver en décimal \n",
    "ord(\"a\")"
   ]
  },
  {
   "cell_type": "code",
   "execution_count": 6,
   "metadata": {},
   "outputs": [
    {
     "data": {
      "text/plain": [
       "'a'"
      ]
     },
     "execution_count": 6,
     "metadata": {},
     "output_type": "execute_result"
    }
   ],
   "source": [
    "# trouver la lettre à partir de la donnée décimale \n",
    "chr(97)"
   ]
  },
  {
   "cell_type": "markdown",
   "metadata": {},
   "source": [
    "### UNICODE - À faire vous-même 2"
   ]
  },
  {
   "cell_type": "code",
   "execution_count": 7,
   "metadata": {},
   "outputs": [
    {
     "data": {
      "text/plain": [
       "98"
      ]
     },
     "execution_count": 7,
     "metadata": {},
     "output_type": "execute_result"
    }
   ],
   "source": [
    "# trouver en décimal \n",
    "ord(\"b\")"
   ]
  },
  {
   "cell_type": "code",
   "execution_count": 120,
   "metadata": {},
   "outputs": [],
   "source": [
    "# convertir en binaire fonction recursive\n",
    "\n",
    "def convertir_base_2(decimal,liste_reste=[]):\n",
    "    \n",
    "    quotient=decimal//2\n",
    "            \n",
    "    if quotient != 0:\n",
    "        \n",
    "        reste=decimal%2\n",
    "        decimal=quotient\n",
    "        liste_reste.append(str(reste))\n",
    "        convertir_base_2(decimal,liste_reste)\n",
    "    else:    \n",
    "        reste=decimal%2\n",
    "        liste_reste.append(str(reste))\n",
    "        liste_reste.reverse()\n",
    "        return liste_reste\n",
    "                    \n",
    "    return liste_reste\n"
   ]
  },
  {
   "cell_type": "code",
   "execution_count": 121,
   "metadata": {},
   "outputs": [
    {
     "data": {
      "text/plain": [
       "'1100010'"
      ]
     },
     "execution_count": 121,
     "metadata": {},
     "output_type": "execute_result"
    }
   ],
   "source": [
    "bin=convertir_base_2(98,[])\n",
    "\"\".join(bin)"
   ]
  },
  {
   "cell_type": "markdown",
   "metadata": {},
   "source": [
    "code binaire du \"b\" minuscule Unicode codé avec UTF-8 est : 1100010"
   ]
  },
  {
   "cell_type": "code",
   "execution_count": null,
   "metadata": {},
   "outputs": [],
   "source": []
  }
 ],
 "metadata": {
  "kernelspec": {
   "display_name": "Python 3",
   "language": "python",
   "name": "python3"
  },
  "language_info": {
   "codemirror_mode": {
    "name": "ipython",
    "version": 3
   },
   "file_extension": ".py",
   "mimetype": "text/x-python",
   "name": "python",
   "nbconvert_exporter": "python",
   "pygments_lexer": "ipython3",
   "version": "3.7.3"
  }
 },
 "nbformat": 4,
 "nbformat_minor": 2
}
