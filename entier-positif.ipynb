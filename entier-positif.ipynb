{
 "cells": [
  {
   "cell_type": "markdown",
   "metadata": {},
   "source": [
    "# Écriture d’un entier positif\n",
    "\n",
    "https://pixees.fr/informatiquelycee/n_site/nsi_prem_base_2_16.html"
   ]
  },
  {
   "cell_type": "markdown",
   "metadata": {},
   "source": [
    "### Binaire - À faire vous-même 1"
   ]
  },
  {
   "cell_type": "markdown",
   "metadata": {},
   "source": [
    "1 bit  = 2 valeurs\n",
    "\n",
    "2 bits = 4 valeurs\n",
    "\n",
    "3 bits = 8 valeurs\n",
    "\n",
    "n bits = 2^n valeurs"
   ]
  },
  {
   "cell_type": "markdown",
   "metadata": {},
   "source": [
    "### Conversion décimale binaire - À faire vous-même 2"
   ]
  },
  {
   "cell_type": "markdown",
   "metadata": {},
   "source": [
    "42 / 2 = 21 + 0\n",
    "\n",
    "21 / 2 = 10 + 1\n",
    "\n",
    "10 / 2 =  5 + 0\n",
    "\n",
    " 5 / 2 =  2 + 1\n",
    " \n",
    " 2 / 2 =  1 + 0\n",
    " \n",
    " 1 / 2 =  0 + 1\n",
    " \n",
    "    \n",
    "=> 42 en base 10 vaut 101010 en base 2"
   ]
  },
  {
   "cell_type": "markdown",
   "metadata": {},
   "source": [
    "### Conversion binaire décimale - À faire vous-même 3"
   ]
  },
  {
   "cell_type": "markdown",
   "metadata": {},
   "source": [
    "10011001 base 2"
   ]
  },
  {
   "cell_type": "code",
   "execution_count": 4,
   "metadata": {},
   "outputs": [
    {
     "data": {
      "text/plain": [
       "153"
      ]
     },
     "execution_count": 4,
     "metadata": {},
     "output_type": "execute_result"
    }
   ],
   "source": [
    "1 * 2**0 + 0 * 2**1 + 0 * 2**2 + 1 * 2**3 + 1 * 2**4 + 0 * 2**5 + 0 * 2**6 + 1 * 2**7"
   ]
  },
  {
   "cell_type": "markdown",
   "metadata": {},
   "source": [
    "reprenons 101010 en base 2"
   ]
  },
  {
   "cell_type": "code",
   "execution_count": 6,
   "metadata": {},
   "outputs": [
    {
     "data": {
      "text/plain": [
       "42"
      ]
     },
     "execution_count": 6,
     "metadata": {},
     "output_type": "execute_result"
    }
   ],
   "source": [
    "0* 2**0 + 1 * 2**1 + 0 * 2**2 + 1 * 2**3 + 0 * 2**4 + 1 * 2**5"
   ]
  },
  {
   "cell_type": "markdown",
   "metadata": {},
   "source": [
    "### L'hexadécimal - À faire vous-même 4"
   ]
  },
  {
   "cell_type": "markdown",
   "metadata": {},
   "source": [
    "Convertir 101111011001 base 2 en base 16"
   ]
  },
  {
   "cell_type": "markdown",
   "metadata": {},
   "source": [
    "1011 1101 1001 = B D 9"
   ]
  },
  {
   "cell_type": "markdown",
   "metadata": {},
   "source": [
    "### À faire vous-même 5"
   ]
  },
  {
   "cell_type": "markdown",
   "metadata": {},
   "source": [
    "Convertir 111011 base 2 en base 16"
   ]
  },
  {
   "cell_type": "markdown",
   "metadata": {},
   "source": [
    "0011 1011 = 3 B"
   ]
  },
  {
   "cell_type": "markdown",
   "metadata": {},
   "source": [
    "### À faire vous-même 6"
   ]
  },
  {
   "cell_type": "markdown",
   "metadata": {},
   "source": [
    "Convertir 1A3E base 16 en base 2"
   ]
  },
  {
   "cell_type": "markdown",
   "metadata": {},
   "source": [
    "1 A 3 E = 0001 1010 0011 1110 "
   ]
  },
  {
   "cell_type": "markdown",
   "metadata": {},
   "source": [
    "### Convertir un nombre décimal en hexadécimal - À faire vous-même 7"
   ]
  },
  {
   "cell_type": "markdown",
   "metadata": {},
   "source": [
    "Convertir 1387 base 10 en base 16"
   ]
  },
  {
   "cell_type": "markdown",
   "metadata": {},
   "source": [
    "1387 / 16 = 86 + 11\n",
    "\n",
    "  86 / 16 =  5 + 6\n",
    "  \n",
    "   5 / 16 =  0 + 5\n",
    "   \n",
    "\n",
    "=> 1387 en base 10 vaut 56B en base 16"
   ]
  },
  {
   "cell_type": "markdown",
   "metadata": {},
   "source": [
    "### Convertir un nombre hexadécimal en décimal - À faire vous-même 8"
   ]
  },
  {
   "cell_type": "markdown",
   "metadata": {},
   "source": [
    "Convertir 1B87 en base 16 en base 10"
   ]
  },
  {
   "cell_type": "code",
   "execution_count": 9,
   "metadata": {},
   "outputs": [
    {
     "data": {
      "text/plain": [
       "7047"
      ]
     },
     "execution_count": 9,
     "metadata": {},
     "output_type": "execute_result"
    }
   ],
   "source": [
    "7 * 16**0 + 8 * 16**1 + 11 * 16**2 + 1 * 16**3"
   ]
  },
  {
   "cell_type": "markdown",
   "metadata": {},
   "source": [
    "# programme 1\n",
    "\n",
    "convertir un decimal en base 2"
   ]
  },
  {
   "cell_type": "code",
   "execution_count": 4,
   "metadata": {},
   "outputs": [],
   "source": [
    "def convertir_base_2(decimal):\n",
    "    \n",
    "    quotient=decimal//2\n",
    "    liste_reste=[]\n",
    "        \n",
    "    while quotient != 0:\n",
    "        \n",
    "        reste=decimal%2\n",
    "        decimal=quotient\n",
    "        \n",
    "        liste_reste.append(str(reste))\n",
    "        quotient=decimal//2\n",
    "    \n",
    "    reste=decimal%2\n",
    "                \n",
    "    liste_reste.append(str(reste))\n",
    "    liste_reste.reverse()\n",
    "                \n",
    "    return print(\"\".join(liste_reste))      "
   ]
  },
  {
   "cell_type": "code",
   "execution_count": 6,
   "metadata": {},
   "outputs": [
    {
     "name": "stdout",
     "output_type": "stream",
     "text": [
      "1100010\n"
     ]
    }
   ],
   "source": [
    "convertir_base_2(98)"
   ]
  },
  {
   "cell_type": "code",
   "execution_count": 91,
   "metadata": {},
   "outputs": [
    {
     "name": "stdout",
     "output_type": "stream",
     "text": [
      "101010\n"
     ]
    }
   ],
   "source": [
    "convertir_base_2(42)"
   ]
  },
  {
   "cell_type": "markdown",
   "metadata": {},
   "source": [
    "# programme 2\n",
    "\n",
    "convertir un decimal en n'importe quelle base"
   ]
  },
  {
   "cell_type": "code",
   "execution_count": 8,
   "metadata": {},
   "outputs": [],
   "source": [
    "\n",
    "def reste_hexa(reste):\n",
    "    \n",
    "    hexa=[0,1,2,3,4,5,6,7,8,9,'A','B','C','D','E','F']\n",
    "    \n",
    "    if reste > 9:\n",
    "        reste1=hexa[reste]\n",
    "    else:\n",
    "        reste1=reste\n",
    "    \n",
    "    return reste1\n",
    "    \n",
    "def convertir_base_n(decimal, base):\n",
    "    \n",
    "    quotient=decimal//base\n",
    "    liste_reste=[]\n",
    "    \n",
    "    \n",
    "    \n",
    "    while quotient != 0:\n",
    "        \n",
    "        reste=decimal%base\n",
    "        decimal=quotient\n",
    "        \n",
    "        reste1=reste_hexa(reste)\n",
    "        liste_reste.append(str(reste1))\n",
    "        quotient=decimal//base\n",
    "    \n",
    "    reste=decimal%base\n",
    "    reste1=reste_hexa(reste)\n",
    "            \n",
    "    liste_reste.append(str(reste1))\n",
    "    liste_reste.reverse()\n",
    "                \n",
    "    return print(\"\".join(liste_reste))      "
   ]
  },
  {
   "cell_type": "code",
   "execution_count": 9,
   "metadata": {},
   "outputs": [
    {
     "name": "stdout",
     "output_type": "stream",
     "text": [
      "10111001\n"
     ]
    }
   ],
   "source": [
    "convertir_base_n(185, 2)"
   ]
  },
  {
   "cell_type": "code",
   "execution_count": 10,
   "metadata": {},
   "outputs": [
    {
     "name": "stdout",
     "output_type": "stream",
     "text": [
      "B9\n"
     ]
    }
   ],
   "source": [
    "convertir_base_n(185, 16)"
   ]
  },
  {
   "cell_type": "code",
   "execution_count": 11,
   "metadata": {},
   "outputs": [
    {
     "name": "stdout",
     "output_type": "stream",
     "text": [
      "12B7\n"
     ]
    }
   ],
   "source": [
    "convertir_base_n(4791, 16)"
   ]
  },
  {
   "cell_type": "code",
   "execution_count": 12,
   "metadata": {},
   "outputs": [
    {
     "name": "stdout",
     "output_type": "stream",
     "text": [
      "1111\n"
     ]
    }
   ],
   "source": [
    "convertir_base_n(15, 2)"
   ]
  },
  {
   "cell_type": "code",
   "execution_count": null,
   "metadata": {},
   "outputs": [],
   "source": []
  }
 ],
 "metadata": {
  "kernelspec": {
   "display_name": "Python 3",
   "language": "python",
   "name": "python3"
  },
  "language_info": {
   "codemirror_mode": {
    "name": "ipython",
    "version": 3
   },
   "file_extension": ".py",
   "mimetype": "text/x-python",
   "name": "python",
   "nbconvert_exporter": "python",
   "pygments_lexer": "ipython3",
   "version": "3.7.3"
  }
 },
 "nbformat": 4,
 "nbformat_minor": 2
}
